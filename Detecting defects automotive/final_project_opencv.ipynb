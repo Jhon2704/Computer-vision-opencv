{
 "cells": [
  {
   "cell_type": "markdown",
   "id": "5ba2ab55-c196-4e12-83f1-f86ca057a132",
   "metadata": {},
   "source": [
    "# Proyecto con OpenCV"
   ]
  },
  {
   "cell_type": "markdown",
   "id": "7ebdde20-6e91-4072-a79d-7ee9de9c1117",
   "metadata": {},
   "source": [
    "# Detección de defectos en una pieza de automoción mediante opencv"
   ]
  },
  {
   "cell_type": "markdown",
   "id": "450d1789-e16b-49fa-a472-c757f54398af",
   "metadata": {},
   "source": [
    "### Explicación del problema"
   ]
  },
  {
   "cell_type": "markdown",
   "id": "2fa48722-ca6b-435b-9e7e-8fbab4d495a7",
   "metadata": {},
   "source": [
    "1) Descripción general del proyecto: Este proyecto tiene como objetivo desarrollar un sistema basado en visión por computadora capaz de inspeccionar e identificar de forma autónoma defectos o imperfecciones en piezas metálicas fundidas. \n",
    "El sistema utilizarà técnicas de visión artificial convencional con la libreria de opencv, con este tipo de sistema no buscamos la robustez pero si comprovar la eficacia de un sistema tradicional, a medida que vayamos realizando el proyecto, se sacará conclusiones si con solo opencv se puede llegar a una estabilidad del sistema."
   ]
  },
  {
   "cell_type": "code",
   "execution_count": 1,
   "id": "3bca0edf-4f56-40ee-b205-ef7931ca6153",
   "metadata": {},
   "outputs": [],
   "source": [
    "\n",
    "# Primero visualizaremos imágenes ok y ko para ver la diferencia entre ellas, y exponer cual puede ser la mejor técnica para su detección.\n",
    "# en la siguiente url encontraremos el proyecto madre junto con el dataset: https://datasetsearch.research.google.com/search?src=0&query=defects%20in%20metal%20piece&docid=L2cvMTF2eDVoamZibA%3D%3D\n",
    "\n",
    "#importamos la librerias que serán necesarias para nuestro desarrollo\n",
    "\n",
    "import cv2\n",
    "import numpy as np\n",
    "import matplotlib.pyplot as plt\n",
    "\n",
    "\n"
   ]
  },
  {
   "cell_type": "code",
   "execution_count": 22,
   "id": "e2534cfe-700f-4c8f-a834-4dab46a9b022",
   "metadata": {},
   "outputs": [],
   "source": [
    "#visualizamos una imagen ok y una ko\n",
    "\n",
    "img_ok = cv2.imread(r'C:\\Users\\joano\\Desktop\\vision artificial juan olivan\\mi codigo\\proyecto_final\\casting_data\\ok\\cast_ok_0_2474.jpeg')#Cargamos una imagen ok\n",
    "img_defect = cv2.imread(r'C:\\Users\\joano\\Desktop\\vision artificial juan olivan\\mi codigo\\proyecto_final\\casting_data\\defect\\cast_def_0_5248.jpeg')#Carga de imagen con defecto\n",
    "\n",
    "#mostramos las imágenes\n",
    "\n",
    "# cv2.imshow('OK',img_ok)\n",
    "# cv2.imshow('Defect',img_defect)\n",
    "\n",
    "#añadimos este comando para que no se cierre las ventanas hasta que no se presione cualquier botón\n",
    "cv2.waitKey()\n",
    "cv2.destroyAllWindows()"
   ]
  },
  {
   "cell_type": "markdown",
   "id": "e01c6265-858b-41ee-86d3-ad7294d082f1",
   "metadata": {},
   "source": [
    "Como podemos observar en las anteriores imágenes la diferencia entre ok y el ko, es la rotura que se encuentra en la imagen ko\n",
    "podemos averiguar que todos los defectos tienen la misma característica, son negros en un fondo plateado, por ende vamos a plantear la siguientes soluciones\n",
    "teniendo en cuenta que sólo vamos a utilizar la potencia de opencv, sin realizar 'ingenieria de características'.\n",
    "\n",
    "Posibles soluciones:\n",
    " 1. Utilizar la técnica de contornos: en ella binarizaremos la imagen, teniendo en cuenta un umbral automático, buscaremos los contornos y los filtraremos mediante un rango\n",
    " 2. Utilitzar la técnica de búscar el patrón: en este caso tambien binarizaremos la imagen, teniendo en cuenta un umbral autómatico, y buscaremos en la imagen un patrón con las mismas características \n",
    "esta técnica no es aconsejable utilizarla, ya que el defecto puede variar en tamaño y en forma, aunque veremos a ver como se comporta."
   ]
  },
  {
   "cell_type": "markdown",
   "id": "8068e56c-df79-4044-a3ba-3f9230f54521",
   "metadata": {},
   "source": [
    "### 1. Técnica de contornos"
   ]
  },
  {
   "cell_type": "code",
   "execution_count": 23,
   "id": "6178ba3a-74f3-4b27-9fc4-97802a560935",
   "metadata": {},
   "outputs": [],
   "source": [
    "#probaremos de utilizar la técnica con una sola imagen, cuando hayamos encontrado la solución lo prepraremos para que sea automático\n",
    "#tendremos en cuenta la imagenes cargadas anteriormente y seguiremos los pasos siguiente.\n",
    "\n",
    "#Pasar a escala de grises las imágenes \n",
    "gray_ok=cv2.cvtColor(img_ok,cv2.COLOR_BGR2GRAY)\n",
    "gray_defect=cv2.cvtColor(img_defect,cv2.COLOR_BGR2GRAY)\n",
    "\n",
    "#binarizamos la imagenes\n",
    "_,th=cv2.threshold(gray_ok,120,255,cv2.THRESH_BINARY)#+cv2.THRESH_OTSU)#binarizamos la imagen de escala de grises\n",
    "_,th2=cv2.threshold(gray_defect,120,255,cv2.THRESH_BINARY)#+cv2.THRESH_OTSU)#binarizamos la imagen de escala de grises\n",
    "\n",
    "#mostramos binarizadas\n",
    "# cv2.imshow('OK',th)\n",
    "# cv2.imshow('Defect',th2)\n",
    "# cv2.waitKey()\n",
    "# cv2.destroyAllWindows()"
   ]
  },
  {
   "cell_type": "code",
   "execution_count": 24,
   "id": "c14c6c4e-9958-4721-9178-8276a834bac5",
   "metadata": {},
   "outputs": [],
   "source": [
    "#aplicaremos un filtro de morofologia closing para potenciar el negro sobre lo blanco del disco, para ello necesitamos crear un kernel\n",
    "\n",
    "kernel=np.ones((5,5),np.uint8) #creamos un kernel de matriz de 1's 5X5\n",
    "\n",
    "closingImg=cv2.morphologyEx(th,cv2.MORPH_CLOSE,kernel)#aplicamos el filtro de closing a la imagen binarizada con un kernel (5,5)\n",
    "closingImg2=cv2.morphologyEx(th2,cv2.MORPH_CLOSE,kernel)#aplicamos el filtro de closing a la imagen binarizada con un kernel (5,5)\n",
    "\n",
    "#mostramos los resultados con el filtro closing\n",
    "# cv2.imshow('OK',closingImg)\n",
    "# cv2.imshow('Defect',closingImg2)\n",
    "# cv2.waitKey()\n",
    "# cv2.destroyAllWindows()"
   ]
  },
  {
   "cell_type": "code",
   "execution_count": 25,
   "id": "359f2d62-0f90-4bc9-91b4-38db7847fd0b",
   "metadata": {},
   "outputs": [],
   "source": [
    "#aplicaremos el metodo de encontrar los contornos en la imagen \n",
    "contours,_=cv2.findContours(closingImg,cv2.RETR_TREE,cv2.CHAIN_APPROX_SIMPLE)#encontramos los contornos exteriores y usamos el método aprox simple para ello\n",
    "contours2,_=cv2.findContours(closingImg2,cv2.RETR_TREE,cv2.CHAIN_APPROX_SIMPLE)#encontramos los contornos exteriores y usamos el método aprox simple para ello\n"
   ]
  },
  {
   "cell_type": "code",
   "execution_count": 26,
   "id": "b57c9696-e387-45fa-aa8f-9e938974519b",
   "metadata": {},
   "outputs": [
    {
     "name": "stdout",
     "output_type": "stream",
     "text": [
      "0\n",
      "4\n"
     ]
    }
   ],
   "source": [
    "#Recorremos la lista creada por los contornos de la imagen y lo filtraremos por area, iremos barajando cual es el area que queremos abarcar\n",
    "\n",
    "contornosLista=[] #lista vacia para rellenar con las posiciones de cada contorno\n",
    "\n",
    "for index in range(len(contours)): #creamos un bucle for para recorrer cada uno de los contornos encontrados\n",
    "    area=cv2.contourArea(contours[index]) #deifinmos el area de cada contorno para posteriormente poder filtrarla según el tamaña que desemos\n",
    "    if area<200: #escogemos el tamaño\n",
    "        cnt=contours[index] #se identifica el contorno\n",
    "        contornosLista.append(cnt)#se añade a la lista vacia\n",
    "print(len(contornosLista))\n",
    "#replicamos para la segunda imagen\n",
    "contornosLista2=[]\n",
    "\n",
    "for index in range(len(contours2)):\n",
    "    area=cv2.contourArea(contours2[index])\n",
    "    if area<200:\n",
    "        cnt=contours2[index]\n",
    "        contornosLista2.append(cnt)\n",
    "print(len(contornosLista2))"
   ]
  },
  {
   "cell_type": "code",
   "execution_count": 27,
   "id": "986244e3-d07b-479b-8b4f-334fb0c86ec7",
   "metadata": {},
   "outputs": [
    {
     "name": "stdout",
     "output_type": "stream",
     "text": [
      "pieza ok\n"
     ]
    }
   ],
   "source": [
    "if len(contornosLista)==0:\n",
    "    cv2.putText(img_ok,\"No hay defecto\",(10,30),cv2.FONT_HERSHEY_SIMPLEX,0.5,(0,255,0),1,cv2.LINE_AA)  \n",
    "    print('pieza ok')\n",
    "else:\n",
    "    # cv2.putText(img_ok,\"hay defecto\",(10,30),cv2.FONT_HERSHEY_SIMPLEX,0.5,(0,0,255),1,cv2.LINE_AA)\n",
    "    cv2.drawContours(img_ok,contornosLista,-1,(0,0,255),1)#dibujamos los contornos en la imagen copia y los ponemos en color verde\n",
    "\n",
    "if len(contornosLista2)==0:   \n",
    "    cv2.putText(img_defect,\"no hay defecto\",(10,30),cv2.FONT_HERSHEY_SIMPLEX,0.5,(0,255,0),1,cv2.LINE_AA)\n",
    "else:\n",
    "    cv2.drawContours(img_defect,contornosLista2,-1,(0,0,255),1)#dibujamos los contornos en la imagen copia y los ponemos en color verde\n",
    "    cv2.putText(img_defect,\"hay defecto\",(10,30),cv2.FONT_HERSHEY_SIMPLEX,0.5,(0,0,255),1,cv2.LINE_AA)\n",
    "\n",
    "cv2.namedWindow(\"imagen1\",cv2.WINDOW_NORMAL)\n",
    "cv2.namedWindow(\"imagen2\",cv2.WINDOW_NORMAL)\n",
    "\n",
    "cv2.imshow(\"imagen1\",img_ok)\n",
    "cv2.imshow(\"imagen2\",img_defect)\n",
    "\n",
    "cv2.waitKey()\n",
    "cv2.destroyAllWindows()"
   ]
  },
  {
   "cell_type": "markdown",
   "id": "54313592-96ab-4b30-ad70-e742c7f37f39",
   "metadata": {},
   "source": [
    "Como hemos podido observar en las imagenes ok y ko mostradas, hemos conseguido mediante la detección de bordes encontrar el posible defecto en la pieza, ahora pasaremos a observar como se comporta esta posible solución con imágenes buenas e imagenes ko.\n",
    "\n",
    "De esta manera planteamos el sistema de manera automática."
   ]
  },
  {
   "cell_type": "code",
   "execution_count": 3,
   "id": "b5ff7021-4c42-475d-be24-93b8e8362689",
   "metadata": {},
   "outputs": [],
   "source": [
    "import os\n",
    "\n",
    "# Ruta al directorio donde se encuentran las imágenes del dataset\n",
    "directorio_ok = \"C:/Users/joano/Desktop/vision artificial juan olivan/mi codigo/proyecto_final/casting_data/ok/\"\n",
    "directorio_defect = \"C:/Users/joano/Desktop/vision artificial juan olivan/mi codigo/proyecto_final/casting_data/defect/\"\n",
    "directorio_todas = \"C:/Users/joano/Desktop/vision artificial juan olivan/mi codigo/proyecto_final/casting_data/todas/\"\n",
    "# Lista de archivos en el directorio\n",
    "archivos = os.listdir(directorio_todas)\n",
    "\n",
    "# #imagenes decision\n",
    "# pulgar_ok=cv2.imread(r'C:\\Users\\joano\\Desktop\\vision artificial juan olivan\\mi codigo\\proyecto_final\\casting_cat\\decision\\pulgar_ok.png')\n",
    "# pulgar_nok=cv2.imread(r'C:\\Users\\joano\\Desktop\\vision artificial juan olivan\\mi codigo\\proyecto_final\\casting_cat\\decision\\pulgar_nok.png')\n",
    "# Iteramos sobre cada archivo en el directorio\n",
    "for archivo in archivos:\n",
    "    # Comprobamos si el archivo es una imagen (extensión .jpg o .png)\n",
    "    if archivo.endswith(\".jpeg\"):\n",
    "        # Construimos la ruta completa de la imagen\n",
    "        imagen_path = os.path.join(directorio_todas, archivo)\n",
    "\n",
    "        # Cargamos la imagen\n",
    "        imagen = cv2.imread(imagen_path)\n",
    "\n",
    "      \n",
    "        # Convertimos la imagen a escala de grises\n",
    "        imagen_gris = cv2.cvtColor(imagen, cv2.COLOR_BGR2GRAY)\n",
    "\n",
    "\n",
    "\n",
    "        # Aplicamos un umbral para resaltar los defectos\n",
    "        _,th=cv2.threshold(imagen_gris,120,255,cv2.THRESH_BINARY)#+cv2.THRESH_OTSU)#binarizamos la imagen de escala de grises\n",
    "\n",
    "        kernel=np.ones((5,5),np.uint8) #creamos un kernel de matriz de 1's 5X5\n",
    "\n",
    "        closingImg=cv2.morphologyEx(th,cv2.MORPH_CLOSE,kernel)\n",
    "        \n",
    "        # Encontramos los contornos de los defectos\n",
    "        contours,_=cv2.findContours(closingImg,cv2.RETR_TREE,cv2.CHAIN_APPROX_SIMPLE)#encontramos los contornos exteriores y usamos el método aprox simple para ello\n",
    "\n",
    "        contornosLista=[] #lista vacia para rellenar con las posiciones de cada contorno\n",
    "\n",
    "        for index in range(len(contours)): #creamos un bucle for para recorrer cada uno de los contornos encontrados\n",
    "            area=cv2.contourArea(contours[index]) #deifinmos el area de cada contorno para posteriormente poder filtrarla según el tamaña que desemos\n",
    "            if 50<area<200: #escogemos el tamaño\n",
    "                cnt=contours[index] #se identifica el contorno\n",
    "                contornosLista.append(cnt)#se añade a la lista vacia\n",
    "        \n",
    "        imagen_defectos = imagen.copy()\n",
    "\n",
    "        \n",
    "        \n",
    "        if len(contornosLista)==0:   \n",
    "            cv2.putText(imagen,\"OK\",(10,30),cv2.FONT_HERSHEY_SIMPLEX,0.5,(0,255,0),1,cv2.LINE_AA)\n",
    " \n",
    "        else:\n",
    "            cv2.drawContours(imagen_defectos,contornosLista,-1,(0,0,255),1)#dibujamos los contornos en la imagen copia y los ponemos en color verde\n",
    "            cv2.putText(imagen_defectos,\"NO OK\",(10,30),cv2.FONT_HERSHEY_SIMPLEX,0.5,(0,0,255),1,cv2.LINE_AA)\n",
    "            \n",
    "        # Mostramos la imagen original y la imagen con los defectos detectados\n",
    "        cv2.imshow(\"Imagen original\", imagen)\n",
    "        cv2.imshow(\"Defectos detectados\", imagen_defectos)\n",
    "        \n",
    "        # Esperamos una tecla para pasar a la siguiente imagen\n",
    "        tecla = cv2.waitKey(0)\n",
    "        \n",
    "        # Si se presiona la tecla 'q' (quit), salimos del bucle\n",
    "        if tecla == ord('q'):\n",
    "            break\n",
    "\n",
    "cv2.destroyAllWindows()\n"
   ]
  },
  {
   "cell_type": "markdown",
   "id": "23ffe962-85bb-41bf-b6e3-a34bb164a928",
   "metadata": {},
   "source": [
    "#### 2. Técnica de patrones"
   ]
  },
  {
   "cell_type": "code",
   "execution_count": 2,
   "id": "6c9ab384-e24f-4c78-a674-c5fdad9098e1",
   "metadata": {},
   "outputs": [
    {
     "name": "stdout",
     "output_type": "stream",
     "text": [
      "Imagen grabada\n"
     ]
    }
   ],
   "source": [
    "#Como hemos echo con el ejemplo anterior utilizaremos la técnica de patrónes para ver como se comporta en una imagen ko, y una vez se haga el exploratorio pasaremos a inspeccionar cada imagen.\n",
    "\n",
    "def umbral(valor):\n",
    "    img2=imgRgb.copy()\n",
    "    w,h=template.shape[::-1]\n",
    "    res=cv2.matchTemplate(imgGray,template,cv2.TM_CCOEFF_NORMED)\n",
    "    umbralX=valor/100\n",
    "    rectangulo=np.where(res>=umbralX)\n",
    "    for puntos in zip(*rectangulo[::-1]):\n",
    "        # print(puntos)\n",
    "        cv2.rectangle(img2,puntos,(puntos[0]+w,puntos[1]+h),(0,255,0),2)\n",
    "    cv2.imshow('match',img2)\n",
    "\n",
    "\n",
    "\n",
    "\n",
    "cv2.namedWindow('match',cv2.WINDOW_NORMAL)\n",
    "\n",
    "imgRgb=cv2.imread(r'C:\\Users\\joano\\Desktop\\vision artificial juan olivan\\mi codigo\\proyecto_final\\casting_data\\defect\\cast_def_0_3028.jpeg')\n",
    "\n",
    "roi=cv2.selectROI('match',imgRgb,False) #creamos un template a través de la selección en la pantalla \n",
    "x=roi[0]\n",
    "y=roi[1]\n",
    "w=roi[2]\n",
    "h=roi[3]\n",
    "\n",
    "template=imgRgb[y:y+h,x:x+w]#creamos la imagen recortada seleccionada en la imagen\n",
    "imagen_grabada=cv2.imwrite(r'C:\\Users\\joano\\Desktop\\vision artificial juan olivan\\mi codigo\\proyecto_final\\casting_data\\template\\template.jpeg',template)\n",
    "print(\"Imagen grabada\")\n",
    "\n",
    "imgGray=cv2.cvtColor(imgRgb,cv2.COLOR_BGR2GRAY)\n",
    "template=cv2.cvtColor(template,cv2.COLOR_BGR2GRAY)\n",
    "\n",
    "\n",
    "\n",
    "# template=cv2.imread(r'C:\\Users\\joano\\Desktop\\vision artificial juan olivan\\imagenes\\template.jpg',0)#Carga de imagen original\n",
    "cv2.imshow('match',imgRgb)\n",
    "\n",
    "cv2.createTrackbar('Umbral','match',0,100,umbral)\n",
    "\n",
    "\n",
    "cv2.waitKey()\n",
    "cv2.destroyAllWindows()\n",
    "\n"
   ]
  },
  {
   "cell_type": "markdown",
   "id": "a4689bbd-0634-4826-bea4-5f2b6bd38a59",
   "metadata": {},
   "source": [
    "Después de observar el exploratorio creando un template de un defecto en la imagen podemos decidir que puede funcionar, aunque con un valor de umbral de 80."
   ]
  },
  {
   "cell_type": "code",
   "execution_count": 4,
   "id": "6450bc56-6e57-4a3d-b70a-33df95017d87",
   "metadata": {},
   "outputs": [],
   "source": [
    "import os\n",
    "\n",
    "# Ruta al directorio donde se encuentran las imágenes del dataset\n",
    "directorio_ok = \"C:/Users/joano/Desktop/vision artificial juan olivan/mi codigo/proyecto_final/casting_data/ok/\"\n",
    "directorio_defect = \"C:/Users/joano/Desktop/vision artificial juan olivan/mi codigo/proyecto_final/casting_data/defect/\"\n",
    "directorio_todas = \"C:/Users/joano/Desktop/vision artificial juan olivan/mi codigo/proyecto_final/casting_data/todas/\"\n",
    "template_path=\"C:/Users/joano/Desktop/vision artificial juan olivan/mi codigo/proyecto_final/casting_data/template/template.jpeg\" #hemos obtenido esta plantilla en el exploratorio anterior\n",
    "# Lista de archivos en el directorio\n",
    "archivos = os.listdir(directorio_defect)\n",
    "\n",
    "# #imagenes decision\n",
    "# pulgar_ok=cv2.imread(r'C:\\Users\\joano\\Desktop\\vision artificial juan olivan\\mi codigo\\proyecto_final\\casting_cat\\decision\\pulgar_ok.png')\n",
    "# pulgar_nok=cv2.imread(r'C:\\Users\\joano\\Desktop\\vision artificial juan olivan\\mi codigo\\proyecto_final\\casting_cat\\decision\\pulgar_nok.png')\n",
    "# Iteramos sobre cada archivo en el directorio\n",
    "for archivo in archivos:\n",
    "    # Comprobamos si el archivo es una imagen (extensión .jpg o .png)\n",
    "    if archivo.endswith(\".jpeg\"):\n",
    "        # Construimos la ruta completa de la imagen\n",
    "        imagen_path = os.path.join(directorio_defect, archivo)\n",
    "        \n",
    "        # Cargamos la imagen\n",
    "        imagen = cv2.imread(imagen_path)\n",
    "        template=cv2.imread(template_path)\n",
    "      \n",
    "        # Convertimos la imagen a escala de grises\n",
    "        imgGray = cv2.cvtColor(imagen, cv2.COLOR_BGR2GRAY)\n",
    "        template=cv2.cvtColor(template,cv2.COLOR_BGR2GRAY)\n",
    "        \n",
    "        img2=imagen.copy()\n",
    "        w,h=template.shape[::-1]\n",
    "        res=cv2.matchTemplate(imgGray,template,cv2.TM_CCOEFF_NORMED)\n",
    "        umbralX=70/100 #este valor viene definido por el exploratorio anterior\n",
    "        rectangulo=np.where(res>=umbralX)\n",
    "        \n",
    "        for puntos in zip(*rectangulo[::-1]):\n",
    " \n",
    "                cv2.rectangle(img2,puntos,(puntos[0]+w,puntos[1]+h),(0,255,0),2)\n",
    "\n",
    "            \n",
    "        # Mostramos la imagen original y la imagen con los defectos detectados\n",
    "        cv2.imshow(\"Imagen original\", img2)\n",
    "     \n",
    "        \n",
    "        # Esperamos una tecla para pasar a la siguiente imagen\n",
    "        tecla = cv2.waitKey(0)\n",
    "        \n",
    "        # Si se presiona la tecla 'q' (quit), salimos del bucle\n",
    "        if tecla == ord('q'):\n",
    "            break\n",
    "\n",
    "cv2.destroyAllWindows()\n"
   ]
  },
  {
   "cell_type": "markdown",
   "id": "1ff292b6-a10f-4abc-bcda-f6505ca55fd4",
   "metadata": {},
   "source": [
    "# Conclusión"
   ]
  },
  {
   "cell_type": "markdown",
   "id": "55f90259-2a7c-4fcd-8c1c-ea12e0c302fc",
   "metadata": {},
   "source": [
    "Como hemos podido observar en los dos casos anteriores el que ha dado mejores resultado en la búsqueda del defecto ha sido el metodo de contornos, esto es debido sin dudar a que el patrón encontrado en la imagen de referencia cambia en cada imagen, esto provoca que la búsqueda no se haga correctamente y provoque falsos rechazos o no encontrar si quiera el defecto coincidente. Por ello, cabe decir que la mejor solución del sistema en el caso que el cliente no tenga suficiente recursos, se podría implementar el metodo de contornos para encontrar dicha solución, en este caso se deberia depurar más solución, aunque ya damos buenos resultados. En el caso que el cliente quisiera que la tasa de rechazo fuera mucho menor cabría decir que es una aplicación pensada para hacer con deep learning. En los proximos cursos daremos soluciones más exactas teniendo en cuenta el ML y el DL."
   ]
  },
  {
   "cell_type": "code",
   "execution_count": null,
   "id": "b96e446f-ec79-4442-a70e-6d2eea56ceb3",
   "metadata": {},
   "outputs": [],
   "source": []
  }
 ],
 "metadata": {
  "kernelspec": {
   "display_name": "Python 3",
   "language": "python",
   "name": "python3"
  },
  "language_info": {
   "codemirror_mode": {
    "name": "ipython",
    "version": 3
   },
   "file_extension": ".py",
   "mimetype": "text/x-python",
   "name": "python",
   "nbconvert_exporter": "python",
   "pygments_lexer": "ipython3",
   "version": "3.11.7"
  }
 },
 "nbformat": 4,
 "nbformat_minor": 5
}
