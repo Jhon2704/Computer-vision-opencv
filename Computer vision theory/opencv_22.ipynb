{
 "cells": [
  {
   "cell_type": "code",
   "execution_count": 1,
   "id": "d8518055-ec17-46f5-b713-e33bd8f3cd4d",
   "metadata": {},
   "outputs": [],
   "source": [
    "import cv2\n",
    "import numpy as np"
   ]
  },
  {
   "cell_type": "code",
   "execution_count": 12,
   "id": "c6131180-f99d-4595-8a52-2113cffc15c5",
   "metadata": {
    "scrolled": true
   },
   "outputs": [
    {
     "name": "stdout",
     "output_type": "stream",
     "text": [
      "(265, 323)\n"
     ]
    }
   ],
   "source": [
    "imgRgb=cv2.imread(r'C:\\Users\\joano\\Desktop\\vision artificial juan olivan\\imagenes\\waldo.jpg')#Carga de imagen original\n",
    "imgGray=cv2.cvtColor(imgRgb,cv2.COLOR_BGR2GRAY)\n",
    "template=cv2.imread(r'C:\\Users\\joano\\Desktop\\vision artificial juan olivan\\imagenes\\waldotemplate.jpg',0)#Carga de imagen original\n",
    "\n",
    "w,h=template.shape[::-1]\n",
    "\n",
    "res=cv2.matchTemplate(imgGray,template,cv2.TM_CCOEFF_NORMED)\n",
    "umbral=0.8\n",
    "rectangulos=np.where(res>=umbral)\n",
    "\n",
    "for punto in zip(*rectangulos[::-1]):\n",
    "    print(punto)\n",
    "    cv2.rectangle(imgRgb,punto,(punto[0]+w,punto[1]+h),(0,255,0),2)\n",
    "# cv2.namedWindow('resultado',cv2.WINDOW_NORMAL)\n",
    "cv2.imshow('resultado',imgRgb)\n",
    "cv2.waitKey()\n",
    "cv2.destroyAllWindows()\n",
    "\n",
    "\n"
   ]
  },
  {
   "cell_type": "code",
   "execution_count": null,
   "id": "3f8d4419-2606-4384-b6ee-6e783de5e35d",
   "metadata": {},
   "outputs": [],
   "source": []
  }
 ],
 "metadata": {
  "kernelspec": {
   "display_name": "Python 3 (ipykernel)",
   "language": "python",
   "name": "python3"
  },
  "language_info": {
   "codemirror_mode": {
    "name": "ipython",
    "version": 3
   },
   "file_extension": ".py",
   "mimetype": "text/x-python",
   "name": "python",
   "nbconvert_exporter": "python",
   "pygments_lexer": "ipython3",
   "version": "3.8.18"
  }
 },
 "nbformat": 4,
 "nbformat_minor": 5
}
