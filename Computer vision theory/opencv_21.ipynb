{
 "cells": [
  {
   "cell_type": "code",
   "execution_count": 1,
   "id": "8cf82718-739e-4cb0-a250-3b3318bf691f",
   "metadata": {},
   "outputs": [],
   "source": [
    "import cv2\n",
    "import numpy as np"
   ]
  },
  {
   "cell_type": "code",
   "execution_count": 7,
   "id": "aa8922d9-844d-4407-9c16-0feed73b2701",
   "metadata": {},
   "outputs": [],
   "source": [
    "img = cv2.imread(r'C:\\Users\\joano\\Desktop\\vision artificial juan olivan\\imagenes\\engranaje.jpg',0)#Carga de imagen original\n",
    "# gray=cv2.cvtColor(img,cv2.COLOR_BGR2GRAY)#convertimos la imagen en escala de grises \n",
    "img2=img.copy()\n",
    "template = cv2.imread(r'C:\\Users\\joano\\Desktop\\vision artificial juan olivan\\imagenes\\template.jpg',0)#Carga de imagen original\n",
    "w,h=template.shape[::-1]\n",
    "\n",
    "methods=['cv2.TM_CCOEFF','cv2.TM_CCOEFF_NORMED','cv2.TM_CCORR','cv2.TM_CCORR_NORMED','cv2.TM_SQDIFF','cv2.TM_SQDIFF_NORMED']\n",
    "\n",
    "for metodoX in methods:\n",
    "    img=img2.copy()\n",
    "    metodo=eval(metodoX)\n",
    "\n",
    "    res=cv2.matchTemplate(img,template,metodo)\n",
    "    min_val,max_val,min_loc,max_loc=cv2.minMaxLoc(res)\n",
    "\n",
    "    if metodo in [cv2.TM_SQDIFF,cv2.TM_SQDIFF_NORMED]:\n",
    "        top_left=min_loc\n",
    "    else:\n",
    "        top_left=max_loc\n",
    "    inf_der=(top_left[0]+w,top_left[1]+h)\n",
    "    cv2.rectangle(img,top_left,inf_der,255,2)\n",
    "\n",
    "    cv2.imwrite(r'C:\\Users\\joano\\Desktop\\vision artificial juan olivan\\imagenes\\engranajes\\{}.jpg'.format(metodoX),img)\n",
    "    "
   ]
  },
  {
   "cell_type": "code",
   "execution_count": null,
   "id": "45aaa66d-0b34-4132-95e6-55062fde5e8d",
   "metadata": {},
   "outputs": [],
   "source": []
  }
 ],
 "metadata": {
  "kernelspec": {
   "display_name": "Python 3 (ipykernel)",
   "language": "python",
   "name": "python3"
  },
  "language_info": {
   "codemirror_mode": {
    "name": "ipython",
    "version": 3
   },
   "file_extension": ".py",
   "mimetype": "text/x-python",
   "name": "python",
   "nbconvert_exporter": "python",
   "pygments_lexer": "ipython3",
   "version": "3.8.18"
  }
 },
 "nbformat": 4,
 "nbformat_minor": 5
}
