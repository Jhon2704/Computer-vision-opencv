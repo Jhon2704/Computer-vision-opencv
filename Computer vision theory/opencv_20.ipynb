{
 "cells": [
  {
   "cell_type": "code",
   "execution_count": 1,
   "id": "6a2b26d1-c061-4505-85d3-a48f0e6be4d6",
   "metadata": {},
   "outputs": [],
   "source": [
    "import cv2\n",
    "import numpy as np\n",
    "from datetime import datetime"
   ]
  },
  {
   "cell_type": "code",
   "execution_count": 2,
   "id": "aaa4b154-64e5-4f94-9d85-ccaf9a63c255",
   "metadata": {},
   "outputs": [],
   "source": [
    "clasificador=cv2.CascadeClassifier(r\"C:\\Users\\joano\\Desktop\\vision artificial juan olivan\\codigoCurso\\2 opencv\\contornos\\haarcascade_fullbody.xml\")"
   ]
  },
  {
   "cell_type": "code",
   "execution_count": 3,
   "id": "41eb2521-9353-43ed-b8c7-f5a8f68f9a53",
   "metadata": {},
   "outputs": [],
   "source": [
    "cap=cv2.VideoCapture(r\"C:\\Users\\joano\\Desktop\\vision artificial juan olivan\\codigoCurso\\2 opencv\\contornos\\personas.avi\")"
   ]
  },
  {
   "cell_type": "code",
   "execution_count": null,
   "id": "f1117228-f60d-4c0a-adf6-ca50e349f9aa",
   "metadata": {},
   "outputs": [],
   "source": [
    "\n",
    "cuenta=0\n",
    "while(cap.isOpened()):\n",
    "    ret,frame=cap.read()\n",
    "    if ret==True:\n",
    "        if cuenta==0:\n",
    "            roi=cv2.selectROI(frame)\n",
    "            x1=roi[0]\n",
    "            y1=roi[1]\n",
    "            w1=roi[2]\n",
    "            h1=roi[3]\n",
    "        if cuenta>1:\n",
    "            gray=cv2.cvtColor(frame,cv2.COLOR_BGR2GRAY)\n",
    "            img2=frame.copy()\n",
    "            personas=clasificador.detectMultiScale(gray,scaleFactor=1.2,minNeighbors=1,minSize=(35,35),maxSize=(150,150))\n",
    "    \n",
    "            try:\n",
    "                for(x,y,w,h) in personas:\n",
    "                    cx=int((x+(w/2)))\n",
    "                    cy=int((y+(h/2)))\n",
    "                    box=np.array([[x1,y1],[x1+w1,y1],[x1+w1,y1+h1],[x1,y1+h1]])\n",
    "                    box=np.intp(box)\n",
    "                    contornos=[box]\n",
    "                    res=cv2.pointPolygonTest(box,(cx,cy),False)\n",
    "                    cv2.drawContours(frame,contornos,-1,(255,0,0),5)\n",
    "    \n",
    "                    if res==1:\n",
    "                        cv2.rectangle(frame,(x,y),(x+w,y+h),(0,0,255),2)\n",
    "                        croppedImage=img2[y:y+h,x:x+w]\n",
    "                        date=datetime.now()\n",
    "                      \n",
    "                        cv2.imwrite(r'C:\\Users\\joano\\Desktop\\vision artificial juan olivan\\imagenes\\capturas\\{}{}_{}_{}.jpg'.format(date.hour, date.minute, date.second, date.microsecond),\n",
    "                                    croppedImage)\n",
    "                        \n",
    "                    cv2.namedWindow(\"Frame\",cv2.WINDOW_NORMAL)\n",
    "                    cv2.namedWindow(\"recorte\",cv2.WINDOW_NORMAL)\n",
    "                    cv2.imshow(\"Frame\",frame)\n",
    "                    cv2.imshow(\"recorte\",croppedImage)\n",
    "    \n",
    "                    if cv2.waitKey(25) & 0xFF==ord('q'):\n",
    "                        break\n",
    "            except:\n",
    "                pass\n",
    "        cuenta+=1\n",
    "    else:\n",
    "        break\n",
    "\n",
    "cap.release()\n",
    "cv2.destroyAllWindows()\n",
    "     "
   ]
  },
  {
   "cell_type": "code",
   "execution_count": null,
   "id": "a106f326-d970-40f8-ac2a-8a87e9122a24",
   "metadata": {},
   "outputs": [],
   "source": []
  }
 ],
 "metadata": {
  "kernelspec": {
   "display_name": "Python 3 (ipykernel)",
   "language": "python",
   "name": "python3"
  },
  "language_info": {
   "codemirror_mode": {
    "name": "ipython",
    "version": 3
   },
   "file_extension": ".py",
   "mimetype": "text/x-python",
   "name": "python",
   "nbconvert_exporter": "python",
   "pygments_lexer": "ipython3",
   "version": "3.8.18"
  }
 },
 "nbformat": 4,
 "nbformat_minor": 5
}
