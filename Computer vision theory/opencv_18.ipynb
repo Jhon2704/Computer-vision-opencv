{
 "cells": [
  {
   "cell_type": "markdown",
   "id": "5c54aee4-ac4e-4e4e-a824-b0ce491b4668",
   "metadata": {},
   "source": [
    "Introducción a contornos"
   ]
  },
  {
   "cell_type": "code",
   "execution_count": 1,
   "id": "64f6cad9-e114-4ecd-b24c-745ceed59a79",
   "metadata": {},
   "outputs": [],
   "source": [
    "#importamos la libreria de opencv y matplotlib para poder visualizar la imagen correctamente\n",
    "import cv2\n",
    "import numpy as np\n",
    "import matplotlib.pyplot as plt"
   ]
  },
  {
   "cell_type": "markdown",
   "id": "601d511e-fbbb-4140-814d-148da349e8c5",
   "metadata": {},
   "source": [
    "Conteo de monedas mediante contornons"
   ]
  },
  {
   "cell_type": "code",
   "execution_count": 7,
   "id": "d7d96a1c-e23e-49db-a58c-eb4137488fdb",
   "metadata": {},
   "outputs": [
    {
     "name": "stdout",
     "output_type": "stream",
     "text": [
      "Son 12 monedas\n"
     ]
    }
   ],
   "source": [
    "img = cv2.imread(r'C:\\Users\\joano\\Desktop\\vision artificial juan olivan\\imagenes\\coins.png')#Carga de imagen original\n",
    "img2=img.copy()#copia de la imagen original\n",
    "gray=cv2.cvtColor(img,cv2.COLOR_BGR2GRAY)#convertimos la imagen en escala de grises \n",
    "\n",
    "_,th=cv2.threshold(gray,100,255,cv2.THRESH_BINARY)#binarizamos la imagen de escala de grises\n",
    "\n",
    "kernel=np.ones((3,3),np.uint8) #creamos un kernel de matriz de 1's 3x3\n",
    "\n",
    "closing=cv2.morphologyEx(th,cv2.MORPH_CLOSE,kernel)#aplicamos el filtro de closing a la imagen binarizada con un kernel (3,3)\n",
    "bordes=cv2.Canny(closing,135,255)#buscamos los bordes de la imagen filtrada mediante un umbral de 135-255\n",
    "\n",
    "contours,jerarquia=cv2.findContours(bordes,cv2.RETR_EXTERNAL,cv2.CHAIN_APPROX_SIMPLE)#encontramos los contornos exteriores y usamos el método aprox simple para ello\n",
    "\n",
    "cv2.drawContours(img2,contours,-1,(0,255,0),3)#dibujamos los contornos en la imagen copia y los ponemos en color verde\n",
    "\n",
    "cantidadMonedas=len(contours)#cantidad de contornos encontrados\n",
    "\n",
    "img2=cv2.putText(img2,\"son \"+str(cantidadMonedas)+\"monedas\",(10,50),cv2.FONT_HERSHEY_SIMPLEX,1,(0,0,255),2,cv2.LINE_AA)#añadimos un texti en la imagen copia\n",
    "\n",
    "print(\"Son \"+str(cantidadMonedas)+\" monedas\")# ponemos por pantalla la cantidad de monedas\n",
    "cv2.imshow(\"original\",img)\n",
    "cv2.imshow(\"closing\",closing)\n",
    "cv2.imshow(\"bordes\",bordes)\n",
    "cv2.imshow(\"Resultados\",img2)\n",
    "cv2.waitKey()\n",
    "cv2.destroyAllWindows()\n"
   ]
  },
  {
   "cell_type": "markdown",
   "id": "e86894d2-1dc3-4536-87b6-576912ebc8f0",
   "metadata": {},
   "source": [
    "Conteo de tornillos"
   ]
  },
  {
   "cell_type": "code",
   "execution_count": 16,
   "id": "2cbae6bb-3694-4da2-88ff-48191772f685",
   "metadata": {},
   "outputs": [
    {
     "name": "stdout",
     "output_type": "stream",
     "text": [
      "Son 2 tornillos\n"
     ]
    }
   ],
   "source": [
    "img = cv2.imread(r'C:\\Users\\joano\\Desktop\\vision artificial juan olivan\\imagenes\\tornillos.jpg')#Carga de imagen original\n",
    "img2=img.copy()#copia de la imagen original\n",
    "gray=cv2.cvtColor(img,cv2.COLOR_BGR2GRAY)#convertimos la imagen en escala de grises \n",
    "\n",
    "_,th=cv2.threshold(gray,230,255,cv2.THRESH_BINARY_INV)#binarizamos la imagen de escala de grises\n",
    "\n",
    "kernel=np.ones((15,15),np.uint8) #creamos un kernel de matriz de 1's 3x3\n",
    "\n",
    "closing=cv2.morphologyEx(th,cv2.MORPH_CLOSE,kernel)#aplicamos el filtro de closing a la imagen binarizada con un kernel (3,3)\n",
    "# bordes=cv2.Canny(closing,135,255)#buscamos los bordes de la imagen filtrada mediante un umbral de 135-255\n",
    "\n",
    "contours,jerarquia=cv2.findContours(closing,cv2.RETR_TREE,cv2.CHAIN_APPROX_SIMPLE)#encontramos los contornos exteriores y usamos el método aprox simple para ello\n",
    "\n",
    "cv2.drawContours(img2,contours,-1,(0,255,0),3)#dibujamos los contornos en la imagen copia y los ponemos en color verde\n",
    "\n",
    "cantidadTornillos=len(contours)#cantidad de contornos encontrados\n",
    "\n",
    "img2=cv2.putText(img2,\"son \"+str(cantidadTornillos)+\"tornillos\",(10,50),cv2.FONT_HERSHEY_SIMPLEX,1,(0,0,255),2,cv2.LINE_AA)#añadimos un texti en la imagen copia\n",
    "\n",
    "print(\"Son \"+str(cantidadTornillos)+\" tornillos\")# ponemos por pantalla la cantidad de monedas\n",
    "\n",
    "cv2.namedWindow(\"original\",cv2.WINDOW_NORMAL)\n",
    "cv2.namedWindow(\"closing\",cv2.WINDOW_NORMAL)\n",
    "cv2.namedWindow(\"Resultados\",cv2.WINDOW_NORMAL)\n",
    "cv2.imshow(\"original\",img)\n",
    "cv2.imshow(\"closing\",closing)\n",
    "cv2.imshow(\"Resultados\",img2)\n",
    "cv2.waitKey()\n",
    "cv2.destroyAllWindows()"
   ]
  },
  {
   "cell_type": "markdown",
   "id": "59ec36ca-6e63-47ae-bc35-d386bffb777c",
   "metadata": {},
   "source": [
    "Centroide de un contorno"
   ]
  },
  {
   "cell_type": "code",
   "execution_count": 22,
   "id": "9661376e-d901-4fd1-9567-2e5dd7be7356",
   "metadata": {},
   "outputs": [
    {
     "name": "stdout",
     "output_type": "stream",
     "text": [
      "Son 12 coins\n"
     ]
    }
   ],
   "source": [
    "img = cv2.imread(r'C:\\Users\\joano\\Desktop\\vision artificial juan olivan\\imagenes\\coins.png')#Carga de imagen original\n",
    "img2=img.copy()#copia de la imagen original\n",
    "gray=cv2.cvtColor(img,cv2.COLOR_BGR2GRAY)#convertimos la imagen en escala de grises \n",
    "\n",
    "_,th=cv2.threshold(gray,100,255,cv2.THRESH_BINARY)#binarizamos la imagen de escala de grises\n",
    "kernel=np.ones((3,3),np.uint8) #creamos un kernel de matriz de 1's 3x3\n",
    "\n",
    "closing=cv2.morphologyEx(th,cv2.MORPH_CLOSE,kernel)#aplicamos el filtro de closing a la imagen binarizada con un kernel (3,3)\n",
    "\n",
    "contornos,jerarquia=cv2.findContours(closing,cv2.RETR_TREE,cv2.CHAIN_APPROX_SIMPLE)#encontramos los contornos exteriores y usamos el método aprox simple para ello\n",
    "\n",
    "for index in range(len(contornos)):\n",
    "    cv2.drawContours(img2,contours,index,(0,255,0),3)#dibujamos los contornos en la imagen copia y los ponemos en color verde\n",
    "    cnt=contornos[index]\n",
    "    M=cv2.moments(cnt)\n",
    "    cx=int(M['m10']/M['m00'])#calculamos la coordenada x del centroide \n",
    "    cy=int(M['m01']/M['m00'])#calculamos la coordenada y del centroide \n",
    "\n",
    "    img=cv2.circle(img,(cx,cy),radius=2,color=(0,0,255),thickness=-1)\n",
    "    img=cv2.putText(img,str(cx)+\", \"+str(cy),(cx-20,cy),cv2.FONT_HERSHEY_SIMPLEX,.3,(255,0,0),1,cv2.LINE_AA)\n",
    "\n",
    "cantidad=len(contornos)\n",
    "\n",
    "img2=cv2.putText(img2,\"son \"+str(cantidad)+\"coins\",(10,50),cv2.FONT_HERSHEY_SIMPLEX,1,(0,0,255),2,cv2.LINE_AA)#añadimos un texti en la imagen copia\n",
    "\n",
    "print(\"Son \"+str(cantidad)+\" coins\")# ponemos por pantalla la cantidad de monedas\n",
    "\n",
    "cv2.namedWindow(\"original\",cv2.WINDOW_NORMAL)\n",
    "cv2.namedWindow(\"closing\",cv2.WINDOW_NORMAL)\n",
    "cv2.namedWindow(\"Resultados\",cv2.WINDOW_NORMAL)\n",
    "cv2.imshow(\"original\",img)\n",
    "cv2.imshow(\"closing\",closing)\n",
    "cv2.imshow(\"Resultados\",img2)\n",
    "cv2.waitKey()\n",
    "cv2.destroyAllWindows()"
   ]
  },
  {
   "cell_type": "markdown",
   "id": "62ba1552-3535-4506-9c3e-9f86469cfcc3",
   "metadata": {},
   "source": [
    "Discriminación de areas mediante contornos"
   ]
  },
  {
   "cell_type": "code",
   "execution_count": 39,
   "id": "ddd7842b-c1b6-4115-a26f-9c0d9b61ef51",
   "metadata": {},
   "outputs": [
    {
     "name": "stdout",
     "output_type": "stream",
     "text": [
      "Son 1 coins\n"
     ]
    }
   ],
   "source": [
    "img = cv2.imread(r'C:\\Users\\joano\\Desktop\\vision artificial juan olivan\\imagenes\\contorno2.jpeg')#Carga de imagen original\n",
    "img2=img.copy()#copia de la imagen original\n",
    "gray=cv2.cvtColor(img,cv2.COLOR_BGR2GRAY)#convertimos la imagen en escala de grises \n",
    "\n",
    "_,th=cv2.threshold(gray,100,255,cv2.THRESH_BINARY)#binarizamos la imagen de escala de grises\n",
    "kernel=np.ones((3,3),np.uint8) #creamos un kernel de matriz de 1's 3x3\n",
    "\n",
    "closing=cv2.morphologyEx(th,cv2.MORPH_CLOSE,kernel)#aplicamos el filtro de closing a la imagen binarizada con un kernel (3,3)\n",
    "\n",
    "contornos,jerarquia=cv2.findContours(closing,cv2.RETR_TREE,cv2.CHAIN_APPROX_SIMPLE)#encontramos los contornos exteriores y usamos el método aprox simple para ello\n",
    "\n",
    "contornosLista=[]\n",
    "\n",
    "for index in range(len(contornos)):\n",
    "\n",
    "    area=cv2.contourArea(contornos[index])\n",
    "    \n",
    "    if area>50000:\n",
    "        contornosLista.append(contornos[index])\n",
    "        \n",
    "        cnt=contornos[index]\n",
    "        M=cv2.moments(cnt)\n",
    "        cx=int(M['m10']/M['m00'])#calculamos la coordenada x del centroide \n",
    "        cy=int(M['m01']/M['m00'])#calculamos la coordenada y del centroide \n",
    "    \n",
    "        img=cv2.circle(img,(cx,cy),radius=2,color=(0,0,255),thickness=-1)\n",
    "        img=cv2.putText(img,str(area),(cx-20,cy),cv2.FONT_HERSHEY_SIMPLEX,.3,(255,0,0),1,cv2.LINE_AA)\n",
    "    cv2.drawContours(img2,contornosLista,-1,(0,255,0),3)#dibujamos los contornos en la imagen copia y los ponemos en color verde\n",
    "\n",
    "cantidad=len(contornosLista)\n",
    "\n",
    "img2=cv2.putText(img2,\"son \"+str(cantidad)+\"coins\",(10,50),cv2.FONT_HERSHEY_SIMPLEX,1,(0,0,255),2,cv2.LINE_AA)#añadimos un texti en la imagen copia\n",
    "\n",
    "print(\"Son \"+str(cantidad)+\" coins\")# ponemos por pantalla la cantidad de monedas\n",
    "\n",
    "cv2.namedWindow(\"original\",cv2.WINDOW_NORMAL)\n",
    "cv2.namedWindow(\"closing\",cv2.WINDOW_NORMAL)\n",
    "cv2.namedWindow(\"Resultados\",cv2.WINDOW_NORMAL)\n",
    "cv2.imshow(\"original\",img)\n",
    "cv2.imshow(\"closing\",closing)\n",
    "cv2.imshow(\"Resultados\",img2)\n",
    "cv2.waitKey()\n",
    "cv2.destroyAllWindows()"
   ]
  },
  {
   "cell_type": "markdown",
   "id": "651cacc0-dea6-43d3-9db4-6c2f4c008278",
   "metadata": {},
   "source": [
    "Prueba de poligono de puntos"
   ]
  },
  {
   "cell_type": "code",
   "execution_count": 50,
   "id": "7b6f46d0-1ee5-4ce9-a85d-a2f081be5094",
   "metadata": {},
   "outputs": [
    {
     "name": "stdout",
     "output_type": "stream",
     "text": [
      "Son 1 coins\n"
     ]
    }
   ],
   "source": [
    "img = cv2.imread(r'C:\\Users\\joano\\Desktop\\vision artificial juan olivan\\imagenes\\contorno2.jpeg')#Carga de imagen original\n",
    "img2=img.copy()#copia de la imagen original\n",
    "gray=cv2.cvtColor(img,cv2.COLOR_BGR2GRAY)#convertimos la imagen en escala de grises \n",
    "\n",
    "_,th=cv2.threshold(gray,100,255,cv2.THRESH_BINARY)#binarizamos la imagen de escala de grises\n",
    "kernel=np.ones((3,3),np.uint8) #creamos un kernel de matriz de 1's 3x3\n",
    "\n",
    "closing=cv2.morphologyEx(th,cv2.MORPH_CLOSE,kernel)#aplicamos el filtro de closing a la imagen binarizada con un kernel (3,3)\n",
    "\n",
    "contornos,jerarquia=cv2.findContours(closing,cv2.RETR_TREE,cv2.CHAIN_APPROX_SIMPLE)#encontramos los contornos exteriores y usamos el método aprox simple para ello\n",
    "\n",
    "contornosLista=[]\n",
    "\n",
    "for index in range(len(contornos)):\n",
    "\n",
    "    area=cv2.contourArea(contornos[index])\n",
    "    \n",
    "    if area>50000:\n",
    "        contornosLista.append(contornos[index])\n",
    "        \n",
    "        cnt=contornos[index]\n",
    "        M=cv2.moments(cnt)\n",
    "        cx=int(M['m10']/M['m00'])#calculamos la coordenada x del centroide \n",
    "        cy=int(M['m01']/M['m00'])#calculamos la coordenada y del centroide \n",
    "        cx=cx+500\n",
    "        resultado=cv2.pointPolygonTest(cnt,(int(cx),int(cy)),False)\n",
    "\n",
    "        \n",
    "        if resultado == 1:\n",
    "                                       \n",
    "            img2=cv2.circle(img,(cx,cy),radius=30,color=(0,0,255),thickness=-1)\n",
    "            img2=cv2.putText(img2,\"El punto se encuentra dentro del contorno\",(10,50),cv2.FONT_HERSHEY_SIMPLEX,.3,(255,0,0),2,cv2.LINE_AA)\n",
    "                                       \n",
    "\n",
    "\n",
    "    \n",
    "\n",
    "cv2.drawContours(img2,contornosLista,-1,(0,255,0),3)#dibujamos los contornos en la imagen copia y los ponemos en color verde\n",
    "\n",
    "cantidad=len(contornosLista)\n",
    "\n",
    "img2=cv2.putText(img2,\"son \"+str(cantidad)+\"coins\",(10,50),cv2.FONT_HERSHEY_SIMPLEX,1,(0,0,255),2,cv2.LINE_AA)#añadimos un texti en la imagen copia\n",
    "\n",
    "print(\"Son \"+str(cantidad)+\" coins\")# ponemos por pantalla la cantidad de monedas\n",
    "\n",
    "cv2.namedWindow(\"original\",cv2.WINDOW_NORMAL)\n",
    "cv2.namedWindow(\"closing\",cv2.WINDOW_NORMAL)\n",
    "cv2.namedWindow(\"Resultados\",cv2.WINDOW_NORMAL)\n",
    "cv2.imshow(\"original\",img)\n",
    "cv2.imshow(\"closing\",closing)\n",
    "cv2.imshow(\"Resultados\",img2)\n",
    "cv2.waitKey()\n",
    "cv2.destroyAllWindows()"
   ]
  },
  {
   "cell_type": "code",
   "execution_count": null,
   "id": "1401afae-96cf-4c1d-bd65-b56a219d2015",
   "metadata": {},
   "outputs": [],
   "source": []
  }
 ],
 "metadata": {
  "kernelspec": {
   "display_name": "Python 3 (ipykernel)",
   "language": "python",
   "name": "python3"
  },
  "language_info": {
   "codemirror_mode": {
    "name": "ipython",
    "version": 3
   },
   "file_extension": ".py",
   "mimetype": "text/x-python",
   "name": "python",
   "nbconvert_exporter": "python",
   "pygments_lexer": "ipython3",
   "version": "3.8.18"
  }
 },
 "nbformat": 4,
 "nbformat_minor": 5
}
