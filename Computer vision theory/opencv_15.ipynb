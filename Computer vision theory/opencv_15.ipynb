{
 "cells": [
  {
   "cell_type": "markdown",
   "id": "7f917d7f-f477-4646-a6e3-39f2da657536",
   "metadata": {},
   "source": [
    "Filtro Blurring "
   ]
  },
  {
   "cell_type": "code",
   "execution_count": 1,
   "id": "a74f8549-d70e-48b2-b0fa-c5ece07cc0bb",
   "metadata": {},
   "outputs": [],
   "source": [
    "#importamos la libreria de opencv y matplotlib para poder visualizar la imagen correctamente\n",
    "import cv2\n",
    "import numpy as np\n",
    "import matplotlib.pyplot as plt"
   ]
  },
  {
   "cell_type": "code",
   "execution_count": 17,
   "id": "174df6a9-e9ef-4aa2-ba27-cb20beb60e99",
   "metadata": {},
   "outputs": [],
   "source": [
    "#leemos la imagen, se necesita poner la r delante de la dirección para que no se confunda en la ruta \n",
    "img = cv2.imread(r'C:\\Users\\joano\\Desktop\\vision artificial juan olivan\\imagenes\\camiseta.png')# en escala de grises "
   ]
  },
  {
   "cell_type": "code",
   "execution_count": 20,
   "id": "f86570d0-3ac1-4208-8e83-b1505ab1e012",
   "metadata": {},
   "outputs": [],
   "source": [
    "imgBlurred=cv2.blur(img,(16,16))#aplicamos un filtro de promediado con un kernel de 8x8  la imagen original y la guardamos a imgBlurred\n",
    "cv2.imwrite(r'C:\\Users\\joano\\Desktop\\vision artificial juan olivan\\imagenes\\camiseta_insta.png',imgBlurred)#grabamos la imagen en el disoo\n",
    "cv2.imshow(\"original\",img)\n",
    "cv2.imshow(\"modif\",imgBlurred)\n",
    "\n",
    "\n",
    "cv2.waitKey(0)\n",
    "cv2.destroyAllWindows()"
   ]
  },
  {
   "cell_type": "markdown",
   "id": "c9854098-4627-472d-aa7d-e8a9fdc29edf",
   "metadata": {},
   "source": [
    "Filtro de desenfoque Gaussiano"
   ]
  },
  {
   "cell_type": "code",
   "execution_count": 21,
   "id": "55659f8e-7f14-4a3b-9d34-b7029a0bf03f",
   "metadata": {},
   "outputs": [],
   "source": [
    "#leemos la imagen, se necesita poner la r delante de la dirección para que no se confunda en la ruta \n",
    "img = cv2.imread(r'C:\\Users\\joano\\Desktop\\vision artificial juan olivan\\imagenes\\camiseta.png',0)# en escala de grises \n",
    "\n",
    "filtrada=cv2.GaussianBlur(img,(3,3),0)#imagen con el filtro de desenfoque gaussiano img de entrada +kernel+desviación estándar // el kernel en este debe de tener valores impares\n",
    "\n",
    "cv2.imshow(\"original\",img)\n",
    "cv2.imshow(\"modif\",filtrada)\n",
    "\n",
    "\n",
    "cv2.waitKey(0)\n",
    "cv2.destroyAllWindows()"
   ]
  },
  {
   "cell_type": "markdown",
   "id": "b2c1f041-bc9a-4c6e-be73-09dcc8e7b1af",
   "metadata": {},
   "source": [
    "Filtrado de desenfoque medio"
   ]
  },
  {
   "cell_type": "code",
   "execution_count": 22,
   "id": "cf577e72-12d7-466b-830e-175d665ad381",
   "metadata": {},
   "outputs": [],
   "source": [
    "#leemos la imagen, se necesita poner la r delante de la dirección para que no se confunda en la ruta \n",
    "img = cv2.imread(r'C:\\Users\\joano\\Desktop\\vision artificial juan olivan\\imagenes\\camiseta.png',0)# en escala de grises \n",
    "\n",
    "filtrada=cv2.medianBlur(img,9)#imagen con el filtro de desenfoque gaussiano img de entrada +kernel+desviación estándar // el kernel en este debe de tener valores impares\n",
    "\n",
    "cv2.imshow(\"original\",img)\n",
    "cv2.imshow(\"modif\",filtrada)\n",
    "\n",
    "\n",
    "cv2.waitKey(0)\n",
    "cv2.destroyAllWindows()"
   ]
  },
  {
   "cell_type": "markdown",
   "id": "943884f9-7256-425c-8403-583ae7382965",
   "metadata": {},
   "source": [
    "Filtrado bilateral"
   ]
  },
  {
   "cell_type": "code",
   "execution_count": 23,
   "id": "1707eb20-f77d-43bf-9758-e570d172c640",
   "metadata": {},
   "outputs": [],
   "source": [
    "#leemos la imagen, se necesita poner la r delante de la dirección para que no se confunda en la ruta \n",
    "img = cv2.imread(r'C:\\Users\\joano\\Desktop\\vision artificial juan olivan\\imagenes\\camiseta.png',0)# en escala de grises \n",
    "\n",
    "filtrada=cv2.bilateralFilter(img,9,75,75)#imagen con el filtro de desenfoque gaussiano img de entrada +kernel+desviación estándar // el kernel en este debe de tener valores impares\n",
    "\n",
    "cv2.imshow(\"original\",img)\n",
    "cv2.imshow(\"modif\",filtrada)\n",
    "\n",
    "\n",
    "cv2.waitKey(0)\n",
    "cv2.destroyAllWindows()"
   ]
  },
  {
   "cell_type": "markdown",
   "id": "22887d7e-cfc7-4ed1-88d3-adc0ae34867c",
   "metadata": {},
   "source": [
    "Ejemplo de restauración de imagen antigua "
   ]
  },
  {
   "cell_type": "code",
   "execution_count": 3,
   "id": "6d6bbf96-dcd5-4fc4-b083-b2f8196a3091",
   "metadata": {},
   "outputs": [],
   "source": [
    "img = cv2.imread(r'C:\\Users\\joano\\Desktop\\vision artificial juan olivan\\imagenes\\foto antigua an.jpg',0)# en escala de grises \n",
    "equ=cv2.equalizeHist(img) #realizamos la ecualización del histograma\n",
    "\n",
    "blur=cv2.blur(equ,(8,8))#aplicamos un filtro de promediado\n",
    "blur=cv2.medianBlur(blur,3)#aplicamos un medianblur a la imagen\n",
    "\n",
    "sharpen_kernel=np.array([[-1,-1,-1],[-1,9,-1],[-1,-1,-1]])#creamos un kernel para afilar la imagem\n",
    "afilada=cv2.filter2D(blur,-1,sharpen_kernel)#aplicamos el filtro de afilamiento a la imagen\n",
    "\n",
    "resultado=np.hstack((img,equ,blur,afilada))#concatenamos las imágenes resultantes\n",
    "\n",
    "cv2.namedWindow(\"resultado general\")\n",
    "cv2.imshow(\"resultado general\",resultado)\n",
    "\n",
    "cv2.waitKey(0)\n",
    "cv2.destroyAllWindows()"
   ]
  },
  {
   "cell_type": "code",
   "execution_count": null,
   "id": "a9453f98-0eab-4592-815f-0c4f1a19acb8",
   "metadata": {},
   "outputs": [],
   "source": []
  }
 ],
 "metadata": {
  "kernelspec": {
   "display_name": "Python 3 (ipykernel)",
   "language": "python",
   "name": "python3"
  },
  "language_info": {
   "codemirror_mode": {
    "name": "ipython",
    "version": 3
   },
   "file_extension": ".py",
   "mimetype": "text/x-python",
   "name": "python",
   "nbconvert_exporter": "python",
   "pygments_lexer": "ipython3",
   "version": "3.8.18"
  }
 },
 "nbformat": 4,
 "nbformat_minor": 5
}
