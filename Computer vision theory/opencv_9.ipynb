{
 "cells": [
  {
   "cell_type": "code",
   "execution_count": 1,
   "id": "39b25d59-8e80-46d9-913e-76b3ea7887c5",
   "metadata": {},
   "outputs": [],
   "source": [
    "#importamos la libreria de opencv y matplotlib para poder visualizar la imagen correctamente\n",
    "import cv2\n",
    "import numpy as np\n",
    "import matplotlib.pyplot as plt"
   ]
  },
  {
   "cell_type": "code",
   "execution_count": 12,
   "id": "bccbcc11-4969-4b43-8d23-a4e2b5f30388",
   "metadata": {},
   "outputs": [],
   "source": [
    "cap=cv2.VideoCapture(0)#mandamos a llamar a la cámara por defecto y guardamos sus configuraciones en cap\n",
    "\n",
    "conteo=0 #inicializamos un conteo a 0\n",
    "while True:#definimos un ciclo infinito\n",
    "    ret,frame=cap.read()#leemos u obtenemos las capturas de las cámaras \n",
    "    gris =cv2.cvtColor(frame,cv2.COLOR_BGR2GRAY)#convertimos la captura a escala de grises \n",
    "\n",
    "    if conteo==10:#si el conteo es 10 guarda la imagen como fondo\n",
    "        fondo=gris#fondo es igual a imagen en escala de grides \n",
    "    if conteo>10:#se es mayor a 10\n",
    "        dif=cv2.absdiff(gris,fondo)#realizamos la resta del fondo a la imagen actual\n",
    "        _,imagenBinarizada=cv2.threshold(dif,15,255,cv2.THRESH_BINARY)#Realizamos la binarizacion de la imagen\n",
    "\n",
    "        #adquirimos los contornos de la imagen\n",
    "        contornos,_=cv2.findContours(imagenBinarizada,cv2.RETR_EXTERNAL,cv2.CHAIN_APPROX_SIMPLE)\n",
    "\n",
    "        for contorno in contornos:\n",
    "            area=cv2.contourArea(contorno)##calculamos el area de contorno\n",
    "            if area>9000:# si el contorno es mayor a 9000 pixeles pasamos a dibujar su rectangulo aprox\n",
    "                x,y,w,h=cv2.boundingRect(contorno)#nos arroja los puntos del rectangulo\n",
    "                cv2.rectangle(frame,(x,y),(x+w,y+h),(0,255,0),2)#dibujamos el rectangulo en la imagen frame\n",
    "\n",
    "    cv2.imshow(\"frame\",frame)\n",
    "    conteo=conteo+1\n",
    "    if cv2.waitKey(1)==13:#si le damos la tecla enter se finaliza el bucle \n",
    "        break\n",
    "cap.release()\n",
    "cv2.destroyAllWindows()\n",
    "\n",
    "    \n",
    "    "
   ]
  },
  {
   "cell_type": "code",
   "execution_count": null,
   "id": "62c0bb1b-6e8e-42da-a9d4-7318b66751f0",
   "metadata": {},
   "outputs": [],
   "source": []
  },
  {
   "cell_type": "code",
   "execution_count": null,
   "id": "f51b5f23-bbbd-417a-b517-bbb59ed58dc2",
   "metadata": {},
   "outputs": [],
   "source": []
  }
 ],
 "metadata": {
  "kernelspec": {
   "display_name": "Python 3 (ipykernel)",
   "language": "python",
   "name": "python3"
  },
  "language_info": {
   "codemirror_mode": {
    "name": "ipython",
    "version": 3
   },
   "file_extension": ".py",
   "mimetype": "text/x-python",
   "name": "python",
   "nbconvert_exporter": "python",
   "pygments_lexer": "ipython3",
   "version": "3.8.18"
  }
 },
 "nbformat": 4,
 "nbformat_minor": 5
}
