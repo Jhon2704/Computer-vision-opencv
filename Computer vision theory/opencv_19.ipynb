{
 "cells": [
  {
   "cell_type": "code",
   "execution_count": 1,
   "id": "25f826d2-b06c-462f-ae3e-a9b804477ff5",
   "metadata": {},
   "outputs": [],
   "source": [
    "#importamos la libreria de opencv y matplotlib para poder visualizar la imagen correctamente\n",
    "import cv2\n",
    "import numpy as np\n",
    "import matplotlib.pyplot as plt"
   ]
  },
  {
   "cell_type": "code",
   "execution_count": 18,
   "id": "3bf87373-24f9-4cfd-9ed3-18611a528c05",
   "metadata": {},
   "outputs": [],
   "source": [
    "img = cv2.imread(r'C:\\Users\\joano\\Desktop\\vision artificial juan olivan\\imagenes\\gear1.png')#Carga de imagen original\n",
    "img2=cv2.imread(r'C:\\Users\\joano\\Desktop\\vision artificial juan olivan\\imagenes\\gear2.png')#Carga de imagen original\n",
    "gray=cv2.cvtColor(img,cv2.COLOR_BGR2GRAY)#convertimos la imagen en escala de grises \n",
    "gray2=cv2.cvtColor(img2,cv2.COLOR_BGR2GRAY)#convertimos la imagen en escala de grises \n",
    "\n",
    "_,th=cv2.threshold(gray,150,255,cv2.THRESH_BINARY+cv2.THRESH_OTSU)#binarizamos la imagen de escala de grises\n",
    "_,th2=cv2.threshold(gray2,150,255,cv2.THRESH_BINARY+cv2.THRESH_OTSU)#binarizamos la imagen de escala de grises\n",
    "\n",
    "kernel=np.ones((5,5),np.uint8) #creamos un kernel de matriz de 1's 5X5\n",
    "\n",
    "closingImg=cv2.morphologyEx(th,cv2.MORPH_CLOSE,kernel)#aplicamos el filtro de closing a la imagen binarizada con un kernel (3,3)\n",
    "closingImg2=cv2.morphologyEx(th2,cv2.MORPH_CLOSE,kernel)#aplicamos el filtro de closing a la imagen binarizada con un kernel (3,3)\n",
    "\n",
    "contours,_=cv2.findContours(closingImg,cv2.RETR_TREE,cv2.CHAIN_APPROX_SIMPLE)#encontramos los contornos exteriores y usamos el método aprox simple para ello\n",
    "contours2,_=cv2.findContours(closingImg2,cv2.RETR_TREE,cv2.CHAIN_APPROX_SIMPLE)#encontramos los contornos exteriores y usamos el método aprox simple para ello\n",
    "\n",
    "contornosLista=[]\n",
    "\n",
    "for index in range(len(contours)):\n",
    "    area=cv2.contourArea(contours[index])\n",
    "    if area>500:\n",
    "        cnt=contours[index]\n",
    "        contornosLista.append(cnt)\n",
    "        \n",
    "contornosLista2=[]\n",
    "\n",
    "for index in range(len(contours2)):\n",
    "    area=cv2.contourArea(contours2[index])\n",
    "    if area>500:\n",
    "        cnt=contours2[index]\n",
    "        contornosLista2.append(cnt)\n",
    "\n",
    "\n",
    "\n",
    "\n",
    "suma=0.0\n",
    "for index in range(len(contornosLista)):\n",
    "    ret=cv2.matchShapes(contornosLista[index],contornosLista2[index],1,0.0)\n",
    "    suma+=ret \n",
    "   \n",
    "if suma>0.0009:#este valor es el que ha llegado s\n",
    "    img2=cv2.putText(img2,\"No son iguales\",(10,30),cv2.FONT_HERSHEY_SIMPLEX,0.5,(0,0,255),1,cv2.LINE_AA)\n",
    "    cv2.drawContours(img,contornosLista,-1,(0,255,0),1)#dibujamos los contornos en la imagen copia y los ponemos en color verde\n",
    "    cv2.drawContours(img2,contornosLista2,-1,(0,0,255),1)#dibujamos los contornos en la imagen copia y los ponemos en color verde\n",
    "else:\n",
    "    img2=cv2.putText(img2,\"Son iguales\",(10,30),cv2.FONT_HERSHEY_SIMPLEX,0.5,(0,255,0),1,cv2.LINE_AA)\n",
    "    cv2.drawContours(img,contornosLista,-1,(0,255,0),1)#dibujamos los contornos en la imagen copia y los ponemos en color verde\n",
    "    cv2.drawContours(img2,contornosLista2,-1,(0,255,0),1)#dibujamos los contornos en la imagen copia y los ponemos en color verde\n",
    "\n",
    "\n",
    "\n",
    "cv2.namedWindow(\"imagen1\",cv2.WINDOW_NORMAL)\n",
    "cv2.namedWindow(\"imagen2\",cv2.WINDOW_NORMAL)\n",
    "\n",
    "cv2.imshow(\"imagen1\",img)\n",
    "cv2.imshow(\"imagen2\",img2)\n",
    "\n",
    "cv2.waitKey()\n",
    "cv2.destroyAllWindows()"
   ]
  },
  {
   "cell_type": "code",
   "execution_count": null,
   "id": "a9a5e13c-6b6f-4e27-be6d-8b9e2b6aab27",
   "metadata": {},
   "outputs": [],
   "source": []
  }
 ],
 "metadata": {
  "kernelspec": {
   "display_name": "Python 3 (ipykernel)",
   "language": "python",
   "name": "python3"
  },
  "language_info": {
   "codemirror_mode": {
    "name": "ipython",
    "version": 3
   },
   "file_extension": ".py",
   "mimetype": "text/x-python",
   "name": "python",
   "nbconvert_exporter": "python",
   "pygments_lexer": "ipython3",
   "version": "3.8.18"
  }
 },
 "nbformat": 4,
 "nbformat_minor": 5
}
