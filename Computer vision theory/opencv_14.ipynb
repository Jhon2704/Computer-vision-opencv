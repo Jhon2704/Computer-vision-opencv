{
 "cells": [
  {
   "cell_type": "code",
   "execution_count": null,
   "id": "0c1aad4d-6a15-4872-b677-b4e10ce5ec84",
   "metadata": {},
   "outputs": [],
   "source": [
    "#importamos la libreria de opencv y matplotlib para poder visualizar la imagen correctamente\n",
    "import cv2\n",
    "import numpy as np\n",
    "import matplotlib.pyplot as plt"
   ]
  },
  {
   "cell_type": "markdown",
   "id": "9d548f6a-b0fb-495b-84f4-dc124073592b",
   "metadata": {},
   "source": [
    "Filtrado de imágenes Filtro pasa bajo\n"
   ]
  }
 ],
 "metadata": {
  "kernelspec": {
   "display_name": "Python 3",
   "language": "python",
   "name": "python3"
  },
  "language_info": {
   "codemirror_mode": {
    "name": "ipython",
    "version": 3
   },
   "file_extension": ".py",
   "mimetype": "text/x-python",
   "name": "python",
   "nbconvert_exporter": "python",
   "pygments_lexer": "ipython3",
   "version": "3.11.7"
  }
 },
 "nbformat": 4,
 "nbformat_minor": 5
}
