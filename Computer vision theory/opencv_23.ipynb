{
 "cells": [
  {
   "cell_type": "code",
   "execution_count": 2,
   "id": "a188efc6-5d31-4844-a9e3-41eb01bbcc38",
   "metadata": {},
   "outputs": [],
   "source": [
    "import cv2\n",
    "import numpy as np"
   ]
  },
  {
   "cell_type": "code",
   "execution_count": 4,
   "id": "7b70918f-2450-424c-b834-f2c6f13c22c0",
   "metadata": {
    "scrolled": true
   },
   "outputs": [],
   "source": [
    "\n",
    "def umbral(valor):\n",
    "    img2=imgRgb.copy()\n",
    "    w,h=template.shape[::-1]\n",
    "    res=cv2.matchTemplate(imgGray,template,cv2.TM_CCOEFF_NORMED)\n",
    "    umbralX=valor/100\n",
    "    rectangulo=np.where(res>=umbralX)\n",
    "    for puntos in zip(*rectangulo[::-1]):\n",
    "        # print(puntos)\n",
    "        cv2.rectangle(img2,puntos,(puntos[0]+w,puntos[1]+h),(0,255,0),2)\n",
    "    cv2.imshow('match',img2)\n",
    "\n",
    "\n",
    "\n",
    "\n",
    "cv2.namedWindow('match',cv2.WINDOW_NORMAL)\n",
    "\n",
    "imgRgb=cv2.imread(r'C:\\Users\\joano\\Desktop\\vision artificial juan olivan\\imagenes\\engranaje.jpg')\n",
    "\n",
    "roi=cv2.selectROI('match',imgRgb,False) #creamos un template a través de la selección en la pantalla \n",
    "x=roi[0]\n",
    "y=roi[1]\n",
    "w=roi[2]\n",
    "h=roi[3]\n",
    "\n",
    "template=imgRgb[y:y+h,x:x+w]#creamos la imagen recortada seleccionada en la imagen\n",
    "\n",
    "imgGray=cv2.cvtColor(imgRgb,cv2.COLOR_BGR2GRAY)\n",
    "template=cv2.cvtColor(template,cv2.COLOR_BGR2GRAY)\n",
    "# template=cv2.imread(r'C:\\Users\\joano\\Desktop\\vision artificial juan olivan\\imagenes\\template.jpg',0)#Carga de imagen original\n",
    "cv2.imshow('match',imgRgb)\n",
    "\n",
    "cv2.createTrackbar('Umbral','match',0,100,umbral)\n",
    "\n",
    "\n",
    "cv2.waitKey()\n",
    "cv2.destroyAllWindows()"
   ]
  },
  {
   "cell_type": "code",
   "execution_count": null,
   "id": "dd88f2c4-c088-4d71-b505-a37a69c07c04",
   "metadata": {},
   "outputs": [],
   "source": []
  }
 ],
 "metadata": {
  "kernelspec": {
   "display_name": "Python 3 (ipykernel)",
   "language": "python",
   "name": "python3"
  },
  "language_info": {
   "codemirror_mode": {
    "name": "ipython",
    "version": 3
   },
   "file_extension": ".py",
   "mimetype": "text/x-python",
   "name": "python",
   "nbconvert_exporter": "python",
   "pygments_lexer": "ipython3",
   "version": "3.8.18"
  }
 },
 "nbformat": 4,
 "nbformat_minor": 5
}
