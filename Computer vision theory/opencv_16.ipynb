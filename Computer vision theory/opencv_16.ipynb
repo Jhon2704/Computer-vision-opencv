{
 "cells": [
  {
   "cell_type": "markdown",
   "id": "66c5c86b-c6f5-42fe-a90f-89650639863a",
   "metadata": {},
   "source": [
    "Tranformaciones morfologicas (solo se pueden usar con imágenes binarizadas)"
   ]
  },
  {
   "cell_type": "markdown",
   "id": "e885a904-f1cf-46e0-b231-adc36ae372a0",
   "metadata": {},
   "source": [
    "Erosión y dilatación para cierre de formas"
   ]
  },
  {
   "cell_type": "code",
   "execution_count": 2,
   "id": "2ce49353-a425-4dfc-ac7b-87bbb370c71a",
   "metadata": {},
   "outputs": [],
   "source": [
    "#importamos la libreria de opencv y matplotlib para poder visualizar la imagen correctamente\n",
    "import cv2\n",
    "import numpy as np\n",
    "import matplotlib.pyplot as plt"
   ]
  },
  {
   "cell_type": "code",
   "execution_count": 3,
   "id": "f70234ac-4e81-45d7-9a57-fd403bdb0de6",
   "metadata": {},
   "outputs": [],
   "source": [
    "#leemos la imagen, se necesita poner la r delante de la dirección para que no se confunda en la ruta \n",
    "img = cv2.imread(r'C:\\Users\\joano\\Desktop\\vision artificial juan olivan\\imagenes\\coins.png',0)# en escala de grises "
   ]
  },
  {
   "cell_type": "code",
   "execution_count": 6,
   "id": "ad5fcd7e-dd35-4f15-833d-66f3d0cf583f",
   "metadata": {},
   "outputs": [],
   "source": [
    "_,th=cv2.threshold(img,100,255,cv2.THRESH_BINARY)#se le aplica una binarizacióna a la imagen\n",
    "\n",
    "kernel=np.ones((3,3),np.uint8)#creamos nuestro kernel\n",
    "\n",
    "erosion=cv2.erode(th,kernel,iterations=1)\n",
    "dilatacion=cv2.dilate(th,kernel,iterations=1)\n",
    "\n",
    "cv2.namedWindow(\"original\",cv2.WINDOW_NORMAL)\n",
    "cv2.namedWindow(\"imgErode\",cv2.WINDOW_NORMAL)\n",
    "cv2.namedWindow(\"imgDilatacion\",cv2.WINDOW_NORMAL)\n",
    "cv2.imshow(\"original\",img)\n",
    "cv2.imshow(\"imgErode\",erosion)\n",
    "cv2.imshow(\"imgDilatacion\",dilatacion)\n",
    "\n",
    "cv2.waitKey()\n",
    "cv2.destroyAllWindows()\n",
    "\n",
    "#podemos combinar las imágenes con los filtros "
   ]
  },
  {
   "cell_type": "markdown",
   "id": "d79ed2ee-2a59-4794-99cc-59e75e252e8d",
   "metadata": {},
   "source": [
    "Morofologia de cierre "
   ]
  },
  {
   "cell_type": "code",
   "execution_count": 11,
   "id": "53188685-ef03-40a0-8178-87ddb6c70511",
   "metadata": {},
   "outputs": [],
   "source": [
    "#leemos la imagen, se necesita poner la r delante de la dirección para que no se confunda en la ruta \n",
    "img = cv2.imread(r'C:\\Users\\joano\\Desktop\\vision artificial juan olivan\\imagenes\\coins.png',0)# en escala de grises"
   ]
  },
  {
   "cell_type": "code",
   "execution_count": 12,
   "id": "3898cccf-3113-49a4-a0d1-2b55eb025f93",
   "metadata": {},
   "outputs": [],
   "source": [
    "_,th=cv2.threshold(img,100,255,cv2.THRESH_BINARY)#se le aplica una binarizacióna a la imagen\n",
    "\n",
    "kernel=np.ones((3,3),np.uint8)#creamos nuestro kernel\n",
    "\n",
    "closing=cv2.morphologyEx(th,cv2.MORPH_CLOSE,kernel)#este comanda sirve para aplicar el filtro de closing en la imagen\n",
    "\n",
    "cv2.namedWindow(\"original\",cv2.WINDOW_NORMAL)\n",
    "cv2.namedWindow(\"close\",cv2.WINDOW_NORMAL)\n",
    "\n",
    "cv2.imshow(\"original\",img)\n",
    "cv2.imshow(\"close\",closing)\n",
    "\n",
    "\n",
    "cv2.waitKey()\n",
    "cv2.destroyAllWindows()\n",
    "\n",
    "#podemos combinar las imágenes con los filtros "
   ]
  },
  {
   "cell_type": "markdown",
   "id": "f1e3b438-79e4-464e-b2ea-e6858d7943f2",
   "metadata": {},
   "source": [
    "Erosion y dilatación para eliminar cosas no deseadas de la imagen"
   ]
  },
  {
   "cell_type": "code",
   "execution_count": 13,
   "id": "85aa01cb-0baa-4595-b138-df4a96e6ef73",
   "metadata": {},
   "outputs": [],
   "source": [
    "img = cv2.imread(r'C:\\Users\\joano\\Desktop\\vision artificial juan olivan\\imagenes\\opening.png',0)# en escala de grises\n",
    "_,th=cv2.threshold(img,100,255,cv2.THRESH_BINARY)#se le aplica una binarizacióna a la imagen\n",
    "\n",
    "kernel=np.ones((3,3),np.uint8)#creamos nuestro kernel\n",
    "\n",
    "erosion=cv2.erode(th,kernel,iterations=1)\n",
    "dilatacion=cv2.dilate(erosion,kernel,iterations=1)\n",
    "\n",
    "cv2.namedWindow(\"original\",cv2.WINDOW_NORMAL)\n",
    "cv2.namedWindow(\"resultado\",cv2.WINDOW_NORMAL)\n",
    "\n",
    "cv2.imshow(\"original\",img)\n",
    "cv2.imshow(\"resultado\",dilatacion)\n",
    "\n",
    "\n",
    "cv2.waitKey()\n",
    "cv2.destroyAllWindows()\n",
    "\n",
    "#podemos combinar las imágenes con los filtros "
   ]
  },
  {
   "cell_type": "markdown",
   "id": "6d9dfea2-ceaf-40f0-aa0c-76ce37735531",
   "metadata": {},
   "source": [
    "Morfologia de apertura "
   ]
  },
  {
   "cell_type": "code",
   "execution_count": 15,
   "id": "aeb7aea8-1c58-487c-8886-69cd3786f71d",
   "metadata": {},
   "outputs": [],
   "source": [
    "img = cv2.imread(r'C:\\Users\\joano\\Desktop\\vision artificial juan olivan\\imagenes\\opening.png',0)# en escala de grises\n",
    "_,th=cv2.threshold(img,100,255,cv2.THRESH_BINARY)#se le aplica una binarizacióna a la imagen\n",
    "\n",
    "kernel=np.ones((3,3),np.uint8)#creamos nuestro kernel\n",
    "\n",
    "open=cv2.morphologyEx(th,cv2.MORPH_OPEN,kernel)#este comanda sirve para aplicar el filtro de apertura en la imagen\n",
    "\n",
    "cv2.namedWindow(\"original\",cv2.WINDOW_NORMAL)\n",
    "cv2.namedWindow(\"open\",cv2.WINDOW_NORMAL)\n",
    "\n",
    "cv2.imshow(\"original\",img)\n",
    "cv2.imshow(\"open\",open)\n",
    "\n",
    "\n",
    "cv2.waitKey()\n",
    "cv2.destroyAllWindows()\n",
    "\n",
    "#podemos combinar las imágenes con los filtros "
   ]
  },
  {
   "cell_type": "markdown",
   "id": "35b264ad-1bc4-4d96-8de5-db8934ea66f4",
   "metadata": {},
   "source": []
  }
 ],
 "metadata": {
  "kernelspec": {
   "display_name": "Python 3 (ipykernel)",
   "language": "python",
   "name": "python3"
  },
  "language_info": {
   "codemirror_mode": {
    "name": "ipython",
    "version": 3
   },
   "file_extension": ".py",
   "mimetype": "text/x-python",
   "name": "python",
   "nbconvert_exporter": "python",
   "pygments_lexer": "ipython3",
   "version": "3.8.18"
  }
 },
 "nbformat": 4,
 "nbformat_minor": 5
}
