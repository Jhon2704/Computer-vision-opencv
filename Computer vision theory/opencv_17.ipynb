{
 "cells": [
  {
   "cell_type": "markdown",
   "id": "88ab76f5-5136-4591-bb9d-29ab2455cd84",
   "metadata": {},
   "source": [
    "Filtro de Sobel"
   ]
  },
  {
   "cell_type": "code",
   "execution_count": 1,
   "id": "3539aecb-94c7-4509-95e2-ba56110e5c2b",
   "metadata": {},
   "outputs": [],
   "source": [
    "#importamos la libreria de opencv y matplotlib para poder visualizar la imagen correctamente\n",
    "import cv2\n",
    "import numpy as np\n",
    "import matplotlib.pyplot as plt"
   ]
  },
  {
   "cell_type": "code",
   "execution_count": 5,
   "id": "4f9a8d40-e037-4464-a290-44aa8a51eede",
   "metadata": {},
   "outputs": [],
   "source": [
    "#leemos la imagen, se necesita poner la r delante de la dirección para que no se confunda en la ruta \n",
    "img = cv2.imread(r'C:\\Users\\joano\\Desktop\\vision artificial juan olivan\\imagenes\\coins.png',0)# en escala de grises "
   ]
  },
  {
   "cell_type": "code",
   "execution_count": 8,
   "id": "c3bcc327-cac9-4117-b91b-a8a995df9986",
   "metadata": {},
   "outputs": [],
   "source": [
    "x=cv2.Sobel(img,cv2.CV_16S,1,0,ksize=3)#aplicamos el filtro sobel con una derivada de grado 1 en x y con un kernel 3x3 se convierte en una imagen de 16 bits\n",
    "y=cv2.Sobel(img,cv2.CV_16S,0,1,ksize=3)#aplicamos el filtro sobel con una derivada de grado 1 en y y con un kernel 3x3 se convierte en una imagen de 16 bits\n",
    "\n",
    "absX=cv2.convertScaleAbs(x)#se convierten los valores en abs y la salida de esra funcion nos retorna la imagen a 8 bits\n",
    "absY=cv2.convertScaleAbs(y)\n",
    "\n",
    "destino=cv2.addWeighted(absX,0.5,absY,0.5,0)#combinamos la dos imagenes, definiendo 0.5 el peso de transparencia de los elementos de la primera imagen y 0.5 los pesos de la segunda el tercer elemento es un elemento agregado\n",
    "\n",
    "cv2.imshow(\"absX\",absX)\n",
    "cv2.imshow(\"absY\",absY)\n",
    "\n",
    "cv2.imshow(\"resultado\",destino)\n",
    "\n",
    "cv2.waitKey()\n",
    "cv2.destroyAllWindows()"
   ]
  },
  {
   "cell_type": "markdown",
   "id": "3fa30477-e198-4cd2-8b41-2306c1ad7eb2",
   "metadata": {},
   "source": [
    "Filtro Canny y coloración de bordes "
   ]
  },
  {
   "cell_type": "code",
   "execution_count": 10,
   "id": "40d29d18-2bdd-4d58-9b3e-0d8b0e0dceaa",
   "metadata": {
    "collapsed": true,
    "jupyter": {
     "outputs_hidden": true
    },
    "scrolled": true
   },
   "outputs": [
    {
     "ename": "AttributeError",
     "evalue": "module 'cv2' has no attribute 'detsroyAllWindows'",
     "output_type": "error",
     "traceback": [
      "\u001b[1;31m---------------------------------------------------------------------------\u001b[0m",
      "\u001b[1;31mAttributeError\u001b[0m                            Traceback (most recent call last)",
      "Cell \u001b[1;32mIn[10], line 10\u001b[0m\n\u001b[0;32m      7\u001b[0m cv2\u001b[38;5;241m.\u001b[39mimshow(\u001b[38;5;124m\"\u001b[39m\u001b[38;5;124mbordes\u001b[39m\u001b[38;5;124m\"\u001b[39m,bordes)\n\u001b[0;32m      9\u001b[0m cv2\u001b[38;5;241m.\u001b[39mwaitKey()\n\u001b[1;32m---> 10\u001b[0m \u001b[43mcv2\u001b[49m\u001b[38;5;241;43m.\u001b[39;49m\u001b[43mdetsroyAllWindows\u001b[49m()\n",
      "\u001b[1;31mAttributeError\u001b[0m: module 'cv2' has no attribute 'detsroyAllWindows'"
     ]
    }
   ],
   "source": [
    "#leemos la imagen, se necesita poner la r delante de la dirección para que no se confunda en la ruta \n",
    "img = cv2.imread(r'C:\\Users\\joano\\Desktop\\vision artificial juan olivan\\imagenes\\coins.png',0)# en escala de grises \n",
    "\n",
    "#filtro canny\n",
    "\n",
    "bordes=cv2.Canny(img,135,255)#aplicamos el filtro Canny para la detección de bordes selecciamoos un min y un max\n",
    "cv2.imshow(\"bordes\",bordes)\n",
    "\n",
    "cv2.waitKey()\n",
    "cv2.destroyAllWindows()\n"
   ]
  },
  {
   "cell_type": "code",
   "execution_count": 3,
   "id": "83925d6f-5975-443a-a8a0-e402a69e1a44",
   "metadata": {},
   "outputs": [],
   "source": [
    "\n",
    "#es para conseguir obtener solo los bordes de las monedas\n",
    "#leemos la imagen, se necesita poner la r delante de la dirección para que no se confunda en la ruta \n",
    "img = cv2.imread(r'C:\\Users\\joano\\Desktop\\vision artificial juan olivan\\imagenes\\coins.png',0)# en escala de grises \n",
    "\n",
    "gaussiana=cv2.GaussianBlur(img,(9,9),0)\n",
    "_,th=cv2.threshold(gaussiana,100,255,cv2.THRESH_BINARY)\n",
    "bordes=cv2.Canny(th,135,255)\n",
    "\n",
    "cv2.imshow(\"resultado\",bordes)\n",
    "cv2.waitKey()\n",
    "cv2.destroyAllWindows()\n"
   ]
  },
  {
   "cell_type": "code",
   "execution_count": 4,
   "id": "bc1562b4-a25d-4bc0-be28-6b7a8876369b",
   "metadata": {},
   "outputs": [],
   "source": [
    "#vamos a remarcar los bordes de las monedas de la imagen\n",
    "imgC = cv2.imread(r'C:\\Users\\joano\\Desktop\\vision artificial juan olivan\\imagenes\\coins.png')# en escala de grises \n",
    "imgD=imgC.copy()\n",
    "img=cv2.cvtColor(imgC,cv2.COLOR_BGR2GRAY)\n",
    "\n",
    "gaussiana=cv2.GaussianBlur(img,(9,9),0)\n",
    "_,th=cv2.threshold(gaussiana,100,255,cv2.THRESH_BINARY)\n",
    "bordes=cv2.Canny(th,135,255)\n",
    "\n",
    "alto,largo=img.shape\n",
    "\n",
    "for i in range(largo):\n",
    "    for j in range(alto):\n",
    "        if bordes[j,i]==255:\n",
    "            imgD[j,i]=(0,255,0)\n",
    "\n",
    "cv2.imshow(\"original\",imgC)\n",
    "cv2.imshow(\"Bordes\",bordes)\n",
    "cv2.imshow(\"resultado\",imgD)\n",
    "\n",
    "cv2.waitKey()\n",
    "cv2.destroyAllWindows()\n"
   ]
  },
  {
   "cell_type": "code",
   "execution_count": null,
   "id": "b6d88320-90b9-4ae1-a0c3-697a2da3d762",
   "metadata": {},
   "outputs": [],
   "source": []
  }
 ],
 "metadata": {
  "kernelspec": {
   "display_name": "Python 3 (ipykernel)",
   "language": "python",
   "name": "python3"
  },
  "language_info": {
   "codemirror_mode": {
    "name": "ipython",
    "version": 3
   },
   "file_extension": ".py",
   "mimetype": "text/x-python",
   "name": "python",
   "nbconvert_exporter": "python",
   "pygments_lexer": "ipython3",
   "version": "3.8.18"
  }
 },
 "nbformat": 4,
 "nbformat_minor": 5
}
